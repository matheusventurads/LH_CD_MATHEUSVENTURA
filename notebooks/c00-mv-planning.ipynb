{
 "cells": [
  {
   "cell_type": "markdown",
   "id": "d5154233",
   "metadata": {
    "ExecuteTime": {
     "end_time": "2023-07-15T19:50:56.936192Z",
     "start_time": "2023-07-15T19:50:56.931338Z"
    }
   },
   "source": [
    "# Lighthouse Indicium"
   ]
  },
  {
   "cell_type": "markdown",
   "id": "ec746661",
   "metadata": {},
   "source": [
    "# 0.0 Planejamento da Solução (IOT)"
   ]
  },
  {
   "cell_type": "markdown",
   "id": "c37121f0",
   "metadata": {},
   "source": [
    "## Input (Entrada)"
   ]
  },
  {
   "cell_type": "markdown",
   "id": "671b1afa",
   "metadata": {},
   "source": [
    "**1. Problema de Negócio**\n",
    "* Precificar os carros do cliente o mais próximo aos valores do mercado\n",
    "\n",
    "**2. Conjunto de Dados**\n",
    "* Base de dados de um marketplace de compra e venda"
   ]
  },
  {
   "cell_type": "markdown",
   "id": "b1caba2a",
   "metadata": {},
   "source": [
    "## Output (Saída)"
   ]
  },
  {
   "cell_type": "markdown",
   "id": "67ad28d5",
   "metadata": {
    "ExecuteTime": {
     "end_time": "2023-07-15T20:00:56.259022Z",
     "start_time": "2023-07-15T20:00:56.229306Z"
    }
   },
   "source": [
    "**1. Predição dos preços dos carros**\n",
    "* Lista com: id_carro | preço\n",
    "    \n",
    "**2. Relatório das variáveis (features)**\n",
    "* Análise das principais estatísticas descritivas com visualização\n",
    "\n",
    "**3. Análise Exploratória dos Dados (EDA)**\n",
    "* 3 hipóteses de negócio\n",
    "* Perguntas feitas pelo cliente\n",
    "    - Qual o melhor estado cadastrado na base de dados para se vender um carro de marca popular e por quê?\n",
    "    - Qual o melhor estado para se comprar uma picape com transmissão automática e por quê?\n",
    "    - Qual o melhor estado para se comprar carros que ainda estejam dentro da garantia de fábrica e por quê?"
   ]
  },
  {
   "cell_type": "markdown",
   "id": "011fa04a",
   "metadata": {},
   "source": [
    "## Tasks (Tarefas)"
   ]
  },
  {
   "cell_type": "markdown",
   "id": "3acde1ac",
   "metadata": {
    "ExecuteTime": {
     "end_time": "2023-07-15T20:00:56.259022Z",
     "start_time": "2023-07-15T20:00:56.229306Z"
    }
   },
   "source": [
    "**1. Predição dos preços dos carros**\n",
    "* Desenvolver modelo a partir da base de dados para predição dos preços dos carros.\n",
    "    \n",
    "**2. Relatório das variáveis (features)**\n",
    "* Análise do comportamento de cada variável (média, mediana, distribuição, etc)\n",
    "\n",
    "**3. Análise Exploratória dos Dados (EDA)**\n",
    "* 3 hipóteses de negócio\n",
    "    - Mapa mental para brainstorm e criação de hipóteses\n",
    "* Perguntas feitas pelo cliente\n",
    "    - Qual o melhor estado cadastrado na base de dados para se vender um carro de marca popular e por quê?\n",
    "        - Quais as principais condições para o estado ser melhor? Preço?\n",
    "    - Qual o melhor estado para se comprar uma picape com transmissão automática e por quê?\n",
    "         - Quais as principais condições do veículo/estado para ser melhor? Quilometragem, preço, revisão?\n",
    "    - Qual o melhor estado para se comprar carros que ainda estejam dentro da garantia de fábrica e por quê?\n",
    "        - Análise dos carros com garantia de fábrica por estado."
   ]
  },
  {
   "cell_type": "code",
   "execution_count": null,
   "id": "a503cd56",
   "metadata": {},
   "outputs": [],
   "source": []
  }
 ],
 "metadata": {
  "kernelspec": {
   "display_name": "Python 3 (ipykernel)",
   "language": "python",
   "name": "python3"
  },
  "language_info": {
   "codemirror_mode": {
    "name": "ipython",
    "version": 3
   },
   "file_extension": ".py",
   "mimetype": "text/x-python",
   "name": "python",
   "nbconvert_exporter": "python",
   "pygments_lexer": "ipython3",
   "version": "3.10.7"
  }
 },
 "nbformat": 4,
 "nbformat_minor": 5
}
