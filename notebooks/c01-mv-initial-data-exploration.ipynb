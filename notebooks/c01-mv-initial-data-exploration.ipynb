{
 "cells": [
  {
   "cell_type": "markdown",
   "id": "6b092494",
   "metadata": {
    "ExecuteTime": {
     "end_time": "2023-07-15T19:50:56.936192Z",
     "start_time": "2023-07-15T19:50:56.931338Z"
    }
   },
   "source": [
    "# Lighthouse Indicium"
   ]
  },
  {
   "cell_type": "markdown",
   "id": "09eab883",
   "metadata": {
    "heading_collapsed": true
   },
   "source": [
    "# 0.0 Planejamento da Solução (IOT)"
   ]
  },
  {
   "cell_type": "markdown",
   "id": "237ff1d5",
   "metadata": {
    "hidden": true
   },
   "source": [
    "## Input (Entrada)"
   ]
  },
  {
   "cell_type": "markdown",
   "id": "edffd182",
   "metadata": {
    "hidden": true
   },
   "source": [
    "**1. Problema de Negócio**\n",
    "* Precificar os carros do cliente o mais próximo aos valores do mercado\n",
    "\n",
    "**2. Conjunto de Dados**\n",
    "* Base de dados de um marketplace de compra e venda"
   ]
  },
  {
   "cell_type": "markdown",
   "id": "ade0bb38",
   "metadata": {
    "hidden": true
   },
   "source": [
    "## Output (Saída)"
   ]
  },
  {
   "cell_type": "markdown",
   "id": "181e6ae9",
   "metadata": {
    "ExecuteTime": {
     "end_time": "2023-07-15T20:00:56.259022Z",
     "start_time": "2023-07-15T20:00:56.229306Z"
    },
    "hidden": true
   },
   "source": [
    "**1. Predição dos preços dos carros**\n",
    "* Lista com: id_carro | preço\n",
    "    \n",
    "**2. Relatório das variáveis (features)**\n",
    "* Análise das principais estatísticas descritivas com visualização\n",
    "\n",
    "**3. Análise Exploratória dos Dados (EDA)**\n",
    "* 3 hipóteses de negócio\n",
    "* Perguntas feitas pelo cliente\n",
    "    - Qual o melhor estado cadastrado na base de dados para se vender um carro de marca popular e por quê?\n",
    "    - Qual o melhor estado para se comprar uma picape com transmissão automática e por quê?\n",
    "    - Qual o melhor estado para se comprar carros que ainda estejam dentro da garantia de fábrica e por quê?"
   ]
  },
  {
   "cell_type": "markdown",
   "id": "21a8a6e0",
   "metadata": {
    "hidden": true
   },
   "source": [
    "## Tasks (Tarefas)"
   ]
  },
  {
   "cell_type": "markdown",
   "id": "da34fb52",
   "metadata": {
    "ExecuteTime": {
     "end_time": "2023-07-15T20:00:56.259022Z",
     "start_time": "2023-07-15T20:00:56.229306Z"
    },
    "hidden": true
   },
   "source": [
    "**1. Predição dos preços dos carros**\n",
    "* Desenvolver modelo a partir da base de dados para predição dos preços dos carros.\n",
    "    \n",
    "**2. Relatório das variáveis (features)**\n",
    "* Análise do comportamento de cada variável (média, mediana, distribuição, etc)\n",
    "\n",
    "**3. Análise Exploratória dos Dados (EDA)**\n",
    "* 3 hipóteses de negócio\n",
    "    - Mapa mental para brainstorm e criação de hipóteses\n",
    "* Perguntas feitas pelo cliente\n",
    "    - Qual o melhor estado cadastrado na base de dados para se vender um carro de marca popular e por quê?\n",
    "        - Quais as principais condições para o estado ser melhor? Preço?\n",
    "    - Qual o melhor estado para se comprar uma picape com transmissão automática e por quê?\n",
    "         - Quais as principais condições do veículo/estado para ser melhor? Quilometragem, preço, revisão?\n",
    "    - Qual o melhor estado para se comprar carros que ainda estejam dentro da garantia de fábrica e por quê?\n",
    "        - Análise dos carros com garantia de fábrica por estado."
   ]
  },
  {
   "cell_type": "code",
   "execution_count": null,
   "id": "df59b09e",
   "metadata": {
    "hidden": true
   },
   "outputs": [],
   "source": []
  },
  {
   "cell_type": "markdown",
   "id": "0f84bc95",
   "metadata": {},
   "source": [
    "# 0.0 IMPORTS"
   ]
  },
  {
   "cell_type": "code",
   "execution_count": 167,
   "id": "075f3321",
   "metadata": {
    "ExecuteTime": {
     "end_time": "2023-07-17T23:31:17.158163Z",
     "start_time": "2023-07-17T23:31:17.139565Z"
    }
   },
   "outputs": [],
   "source": [
    "import pandas as pd\n",
    "import numpy as np\n",
    "import seaborn as sns\n",
    "import xgboost as xgb\n",
    "import lightgbm as lgbm\n",
    "\n",
    "from matplotlib import pyplot as plt\n",
    "from sklearn.model_selection import train_test_split\n",
    "from IPython.core.display  import HTML\n",
    "\n",
    "from sklearn.preprocessing import MinMaxScaler, LabelEncoder\n",
    "from sklearn.metrics       import mean_absolute_error, mean_absolute_percentage_error, mean_squared_error\n",
    "from sklearn.linear_model  import LinearRegression, Lasso\n",
    "from sklearn.ensemble      import RandomForestRegressor\n",
    "\n",
    "from feature_engine.encoding import CountFrequencyEncoder"
   ]
  },
  {
   "cell_type": "markdown",
   "id": "5fa4970d",
   "metadata": {
    "heading_collapsed": true
   },
   "source": [
    "## 0.1 Helper Functions"
   ]
  },
  {
   "cell_type": "code",
   "execution_count": 68,
   "id": "aff24bc8",
   "metadata": {
    "ExecuteTime": {
     "end_time": "2023-07-17T20:34:00.873185Z",
     "start_time": "2023-07-17T20:34:00.840900Z"
    },
    "hidden": true
   },
   "outputs": [],
   "source": [
    "def descriptive_analysis(num_attributes):\n",
    "    # Tendência Central - média, mediana\n",
    "    ct1 = pd.DataFrame(num_attributes.apply(np.mean)).T\n",
    "    ct2 = pd.DataFrame(num_attributes.apply(np.median)).T\n",
    "\n",
    "    # Dispersão - std, min, max, range, skew, kurtosis\n",
    "    d1 = pd.DataFrame(num_attributes.apply(np.std)).T\n",
    "    d2 = pd.DataFrame(num_attributes.apply(min)).T\n",
    "    d3 = pd.DataFrame(num_attributes.apply(max)).T\n",
    "    d4 = pd.DataFrame(num_attributes.apply(lambda x: x.max() - x.min())).T\n",
    "    d5 = pd.DataFrame(num_attributes.apply(lambda x: x.skew())).T\n",
    "    d6 = pd.DataFrame(num_attributes.apply(lambda x: x.kurtosis())).T\n",
    "\n",
    "    # Concate\n",
    "    m = pd.concat([d2, d3, d4, ct1, ct2, d1, d5, d6]).T.reset_index()\n",
    "    m.columns = (['attributes', 'min', 'max', 'range', 'mean', 'median', 'std', 'skew', 'kurtosis'])\n",
    "    \n",
    "    return m\n",
    "\n",
    "\n",
    "def ml_error(model_name, y, yhat):\n",
    "    mae = mean_absolute_error(y, yhat)\n",
    "    mape = mean_absolute_percentage_error(y, yhat)\n",
    "    rmse = np.sqrt(mean_squared_error(y, yhat))\n",
    "    \n",
    "    return pd.DataFrame({'Model Name': model_name,\n",
    "                        'MAE': mae,\n",
    "                        'MAPE': mape,\n",
    "                        'RMSE': rmse}, index=[0])\n",
    "\n",
    "\n",
    "def jupyter_settings():\n",
    "    %matplotlib inline\n",
    "    %pylab inline\n",
    "    \n",
    "    plt.style.use( 'bmh' )\n",
    "    plt.rcParams['figure.figsize'] = [25, 12]\n",
    "    plt.rcParams['font.size'] = 24\n",
    "    \n",
    "    display( HTML( '<style>.container { width:100% !important; }</style>') )\n",
    "    pd.options.display.max_columns = None\n",
    "    pd.set_option('display.expand_frame_repr', False )\n",
    "    pd.set_option('display.float_format', '{:.4f}'.format)\n",
    "    \n",
    "    sns.set()"
   ]
  },
  {
   "cell_type": "code",
   "execution_count": 3,
   "id": "695b3f6c",
   "metadata": {
    "ExecuteTime": {
     "end_time": "2023-07-17T19:46:03.986446Z",
     "start_time": "2023-07-17T19:46:03.940075Z"
    },
    "hidden": true
   },
   "outputs": [
    {
     "name": "stdout",
     "output_type": "stream",
     "text": [
      "%pylab is deprecated, use %matplotlib inline and import the required libraries.\n",
      "Populating the interactive namespace from numpy and matplotlib\n"
     ]
    },
    {
     "data": {
      "text/html": [
       "<style>.container { width:100% !important; }</style>"
      ],
      "text/plain": [
       "<IPython.core.display.HTML object>"
      ]
     },
     "metadata": {},
     "output_type": "display_data"
    }
   ],
   "source": [
    "jupyter_settings()"
   ]
  },
  {
   "cell_type": "markdown",
   "id": "ec924836",
   "metadata": {
    "heading_collapsed": true
   },
   "source": [
    "## 0.2 Loading data"
   ]
  },
  {
   "cell_type": "code",
   "execution_count": 4,
   "id": "3bd12456",
   "metadata": {
    "ExecuteTime": {
     "end_time": "2023-07-17T19:46:04.368713Z",
     "start_time": "2023-07-17T19:46:03.994258Z"
    },
    "hidden": true
   },
   "outputs": [],
   "source": [
    "df_raw = pd.read_csv('../data/raw/cars_train.csv', encoding='utf16', sep='\\t')"
   ]
  },
  {
   "cell_type": "code",
   "execution_count": 5,
   "id": "bb2c44d9",
   "metadata": {
    "ExecuteTime": {
     "end_time": "2023-07-17T19:46:04.419969Z",
     "start_time": "2023-07-17T19:46:04.372061Z"
    },
    "hidden": true
   },
   "outputs": [
    {
     "data": {
      "text/html": [
       "<div>\n",
       "<style scoped>\n",
       "    .dataframe tbody tr th:only-of-type {\n",
       "        vertical-align: middle;\n",
       "    }\n",
       "\n",
       "    .dataframe tbody tr th {\n",
       "        vertical-align: top;\n",
       "    }\n",
       "\n",
       "    .dataframe thead th {\n",
       "        text-align: right;\n",
       "    }\n",
       "</style>\n",
       "<table border=\"1\" class=\"dataframe\">\n",
       "  <thead>\n",
       "    <tr style=\"text-align: right;\">\n",
       "      <th></th>\n",
       "      <th>id</th>\n",
       "      <th>num_fotos</th>\n",
       "      <th>marca</th>\n",
       "      <th>modelo</th>\n",
       "      <th>versao</th>\n",
       "      <th>ano_de_fabricacao</th>\n",
       "      <th>ano_modelo</th>\n",
       "      <th>hodometro</th>\n",
       "      <th>cambio</th>\n",
       "      <th>num_portas</th>\n",
       "      <th>tipo</th>\n",
       "      <th>blindado</th>\n",
       "      <th>cor</th>\n",
       "      <th>tipo_vendedor</th>\n",
       "      <th>cidade_vendedor</th>\n",
       "      <th>estado_vendedor</th>\n",
       "      <th>anunciante</th>\n",
       "      <th>entrega_delivery</th>\n",
       "      <th>troca</th>\n",
       "      <th>elegivel_revisao</th>\n",
       "      <th>dono_aceita_troca</th>\n",
       "      <th>veiculo_único_dono</th>\n",
       "      <th>revisoes_concessionaria</th>\n",
       "      <th>ipva_pago</th>\n",
       "      <th>veiculo_licenciado</th>\n",
       "      <th>garantia_de_fábrica</th>\n",
       "      <th>revisoes_dentro_agenda</th>\n",
       "      <th>veiculo_alienado</th>\n",
       "      <th>preco</th>\n",
       "    </tr>\n",
       "  </thead>\n",
       "  <tbody>\n",
       "    <tr>\n",
       "      <th>8213</th>\n",
       "      <td>96041578899191612544991461815088024994</td>\n",
       "      <td>8.0000</td>\n",
       "      <td>FIAT</td>\n",
       "      <td>TORO</td>\n",
       "      <td>1.8 16V EVO FLEX FREEDOM AT6</td>\n",
       "      <td>2017</td>\n",
       "      <td>2017.0000</td>\n",
       "      <td>120383.0000</td>\n",
       "      <td>Automática</td>\n",
       "      <td>4</td>\n",
       "      <td>Picape</td>\n",
       "      <td>N</td>\n",
       "      <td>Branco</td>\n",
       "      <td>PF</td>\n",
       "      <td>Campinas</td>\n",
       "      <td>São Paulo (SP)</td>\n",
       "      <td>Pessoa Física</td>\n",
       "      <td>False</td>\n",
       "      <td>False</td>\n",
       "      <td>False</td>\n",
       "      <td>Aceita troca</td>\n",
       "      <td>NaN</td>\n",
       "      <td>NaN</td>\n",
       "      <td>NaN</td>\n",
       "      <td>NaN</td>\n",
       "      <td>NaN</td>\n",
       "      <td>NaN</td>\n",
       "      <td>NaN</td>\n",
       "      <td>86987.3712</td>\n",
       "    </tr>\n",
       "    <tr>\n",
       "      <th>16229</th>\n",
       "      <td>228392305096878884886808044971278602629</td>\n",
       "      <td>8.0000</td>\n",
       "      <td>MITSUBISHI</td>\n",
       "      <td>OUTLANDER</td>\n",
       "      <td>2.2 4X4 16V DIESEL 4P AUTOMÁTICO</td>\n",
       "      <td>2016</td>\n",
       "      <td>2017.0000</td>\n",
       "      <td>90615.0000</td>\n",
       "      <td>Automática</td>\n",
       "      <td>4</td>\n",
       "      <td>Utilitário esportivo</td>\n",
       "      <td>N</td>\n",
       "      <td>Branco</td>\n",
       "      <td>PF</td>\n",
       "      <td>Mogi das Cruzes</td>\n",
       "      <td>São Paulo (SP)</td>\n",
       "      <td>Pessoa Física</td>\n",
       "      <td>False</td>\n",
       "      <td>False</td>\n",
       "      <td>False</td>\n",
       "      <td>NaN</td>\n",
       "      <td>NaN</td>\n",
       "      <td>Todas as revisões feitas pela concessionária</td>\n",
       "      <td>IPVA pago</td>\n",
       "      <td>Licenciado</td>\n",
       "      <td>NaN</td>\n",
       "      <td>Todas as revisões feitas pela agenda do carro</td>\n",
       "      <td>NaN</td>\n",
       "      <td>232332.2300</td>\n",
       "    </tr>\n",
       "    <tr>\n",
       "      <th>18487</th>\n",
       "      <td>335000150022297571159769385522518716401</td>\n",
       "      <td>15.0000</td>\n",
       "      <td>HYUNDAI</td>\n",
       "      <td>HB20S</td>\n",
       "      <td>1.6 COMFORT PLUS 16V FLEX 4P AUTOMÁTICO</td>\n",
       "      <td>2015</td>\n",
       "      <td>2015.0000</td>\n",
       "      <td>85351.0000</td>\n",
       "      <td>Automática</td>\n",
       "      <td>4</td>\n",
       "      <td>Sedã</td>\n",
       "      <td>N</td>\n",
       "      <td>Prata</td>\n",
       "      <td>PJ</td>\n",
       "      <td>Presidente Prudente</td>\n",
       "      <td>São Paulo (SP)</td>\n",
       "      <td>Loja</td>\n",
       "      <td>False</td>\n",
       "      <td>False</td>\n",
       "      <td>False</td>\n",
       "      <td>Aceita troca</td>\n",
       "      <td>NaN</td>\n",
       "      <td>NaN</td>\n",
       "      <td>IPVA pago</td>\n",
       "      <td>Licenciado</td>\n",
       "      <td>NaN</td>\n",
       "      <td>NaN</td>\n",
       "      <td>NaN</td>\n",
       "      <td>61256.4574</td>\n",
       "    </tr>\n",
       "  </tbody>\n",
       "</table>\n",
       "</div>"
      ],
      "text/plain": [
       "                                            id  num_fotos       marca     modelo                                   versao  ano_de_fabricacao  ano_modelo   hodometro      cambio  num_portas                  tipo blindado     cor tipo_vendedor      cidade_vendedor estado_vendedor     anunciante  entrega_delivery  troca  elegivel_revisao dono_aceita_troca veiculo_único_dono                       revisoes_concessionaria  ipva_pago veiculo_licenciado garantia_de_fábrica                         revisoes_dentro_agenda  veiculo_alienado       preco\n",
       "8213    96041578899191612544991461815088024994     8.0000        FIAT       TORO             1.8 16V EVO FLEX FREEDOM AT6               2017   2017.0000 120383.0000  Automática           4                Picape        N  Branco            PF             Campinas  São Paulo (SP)  Pessoa Física             False  False             False      Aceita troca                NaN                                           NaN        NaN                NaN                 NaN                                            NaN               NaN  86987.3712\n",
       "16229  228392305096878884886808044971278602629     8.0000  MITSUBISHI  OUTLANDER         2.2 4X4 16V DIESEL 4P AUTOMÁTICO               2016   2017.0000  90615.0000  Automática           4  Utilitário esportivo        N  Branco            PF      Mogi das Cruzes  São Paulo (SP)  Pessoa Física             False  False             False               NaN                NaN  Todas as revisões feitas pela concessionária  IPVA pago         Licenciado                 NaN  Todas as revisões feitas pela agenda do carro               NaN 232332.2300\n",
       "18487  335000150022297571159769385522518716401    15.0000     HYUNDAI      HB20S  1.6 COMFORT PLUS 16V FLEX 4P AUTOMÁTICO               2015   2015.0000  85351.0000  Automática           4                  Sedã        N   Prata            PJ  Presidente Prudente  São Paulo (SP)           Loja             False  False             False      Aceita troca                NaN                                           NaN  IPVA pago         Licenciado                 NaN                                            NaN               NaN  61256.4574"
      ]
     },
     "execution_count": 5,
     "metadata": {},
     "output_type": "execute_result"
    }
   ],
   "source": [
    "df_raw.sample(3)"
   ]
  },
  {
   "cell_type": "markdown",
   "id": "82a12df5",
   "metadata": {
    "ExecuteTime": {
     "end_time": "2023-07-15T20:25:31.152354Z",
     "start_time": "2023-07-15T20:25:31.140321Z"
    },
    "heading_collapsed": true
   },
   "source": [
    "# 1.0 DESCRIÇÃO DOS DADOS"
   ]
  },
  {
   "cell_type": "code",
   "execution_count": 6,
   "id": "548d2ab2",
   "metadata": {
    "ExecuteTime": {
     "end_time": "2023-07-17T19:46:04.435632Z",
     "start_time": "2023-07-17T19:46:04.424046Z"
    },
    "hidden": true
   },
   "outputs": [],
   "source": [
    "df1 = df_raw.copy()"
   ]
  },
  {
   "cell_type": "markdown",
   "id": "9003a46e",
   "metadata": {
    "heading_collapsed": true,
    "hidden": true
   },
   "source": [
    "## 1.1 Rename Columns"
   ]
  },
  {
   "cell_type": "markdown",
   "id": "a5669690",
   "metadata": {
    "hidden": true
   },
   "source": [
    "Reduzindo nome das colunas e retirando acentos para facilitar aplicações futuras."
   ]
  },
  {
   "cell_type": "code",
   "execution_count": 7,
   "id": "9ffff02b",
   "metadata": {
    "ExecuteTime": {
     "end_time": "2023-07-17T19:46:04.456226Z",
     "start_time": "2023-07-17T19:46:04.439738Z"
    },
    "hidden": true
   },
   "outputs": [],
   "source": [
    "df1 = df1.rename(columns = {'ano_de_fabricacao': 'ano_fabricacao',\n",
    "                            'entrega_delivery': 'delivery',\n",
    "                            'dono_aceita_troca': 'aceita_troca',\n",
    "                            'veiculo_único_dono': 'unico_dono',\n",
    "                            'ipva_pago': 'ipva',\n",
    "                            'veiculo_licenciado': 'licenciado',\n",
    "                            'garantia_de_fábrica': 'garantia_fabrica',\n",
    "                            'revisoes_dentro_agenda': 'revisoes_agenda',\n",
    "                            'veiculo_alienado': 'alienado'})"
   ]
  },
  {
   "cell_type": "markdown",
   "id": "b97f0cca",
   "metadata": {
    "heading_collapsed": true,
    "hidden": true
   },
   "source": [
    "## 1.2 Data Dimensions"
   ]
  },
  {
   "cell_type": "code",
   "execution_count": 8,
   "id": "36110b8c",
   "metadata": {
    "ExecuteTime": {
     "end_time": "2023-07-17T19:46:04.466532Z",
     "start_time": "2023-07-17T19:46:04.460144Z"
    },
    "hidden": true
   },
   "outputs": [
    {
     "name": "stdout",
     "output_type": "stream",
     "text": [
      "Number of Rows: 29584\n",
      "Number of Cols: 29\n"
     ]
    }
   ],
   "source": [
    "print(f'Number of Rows: {df1.shape[0]}')\n",
    "print(f'Number of Cols: {df1.shape[1]}')"
   ]
  },
  {
   "cell_type": "markdown",
   "id": "40769bcc",
   "metadata": {
    "heading_collapsed": true,
    "hidden": true
   },
   "source": [
    "## 1.3 Data Types"
   ]
  },
  {
   "cell_type": "markdown",
   "id": "1f7ed6cd",
   "metadata": {
    "ExecuteTime": {
     "end_time": "2023-07-15T21:33:52.642296Z",
     "start_time": "2023-07-15T21:33:52.628700Z"
    },
    "hidden": true
   },
   "source": [
    "Análise inicial dos tipos de cada feature."
   ]
  },
  {
   "cell_type": "code",
   "execution_count": 9,
   "id": "7024461e",
   "metadata": {
    "ExecuteTime": {
     "end_time": "2023-07-17T19:46:04.478958Z",
     "start_time": "2023-07-17T19:46:04.469841Z"
    },
    "hidden": true
   },
   "outputs": [
    {
     "data": {
      "text/plain": [
       "id                          object\n",
       "num_fotos                  float64\n",
       "marca                       object\n",
       "modelo                      object\n",
       "versao                      object\n",
       "ano_fabricacao               int64\n",
       "ano_modelo                 float64\n",
       "hodometro                  float64\n",
       "cambio                      object\n",
       "num_portas                   int64\n",
       "tipo                        object\n",
       "blindado                    object\n",
       "cor                         object\n",
       "tipo_vendedor               object\n",
       "cidade_vendedor             object\n",
       "estado_vendedor             object\n",
       "anunciante                  object\n",
       "delivery                      bool\n",
       "troca                         bool\n",
       "elegivel_revisao              bool\n",
       "aceita_troca                object\n",
       "unico_dono                  object\n",
       "revisoes_concessionaria     object\n",
       "ipva                        object\n",
       "licenciado                  object\n",
       "garantia_fabrica            object\n",
       "revisoes_agenda             object\n",
       "alienado                   float64\n",
       "preco                      float64\n",
       "dtype: object"
      ]
     },
     "execution_count": 9,
     "metadata": {},
     "output_type": "execute_result"
    }
   ],
   "source": [
    "df1.dtypes"
   ]
  },
  {
   "cell_type": "markdown",
   "id": "70911820",
   "metadata": {
    "ExecuteTime": {
     "end_time": "2023-07-15T21:28:02.930424Z",
     "start_time": "2023-07-15T21:28:02.920418Z"
    },
    "heading_collapsed": true,
    "hidden": true
   },
   "source": [
    "## 1.4 Check NA"
   ]
  },
  {
   "cell_type": "markdown",
   "id": "aa16c41c",
   "metadata": {
    "hidden": true
   },
   "source": [
    "Conferindo valores nulos em cada feature."
   ]
  },
  {
   "cell_type": "code",
   "execution_count": 10,
   "id": "fda50fd3",
   "metadata": {
    "ExecuteTime": {
     "end_time": "2023-07-17T19:46:04.611649Z",
     "start_time": "2023-07-17T19:46:04.484059Z"
    },
    "hidden": true
   },
   "outputs": [
    {
     "data": {
      "text/plain": [
       "id                             0\n",
       "num_fotos                    177\n",
       "marca                          0\n",
       "modelo                         0\n",
       "versao                         0\n",
       "ano_fabricacao                 0\n",
       "ano_modelo                     0\n",
       "hodometro                      0\n",
       "cambio                         0\n",
       "num_portas                     0\n",
       "tipo                           0\n",
       "blindado                       0\n",
       "cor                            0\n",
       "tipo_vendedor                  0\n",
       "cidade_vendedor                0\n",
       "estado_vendedor                0\n",
       "anunciante                     0\n",
       "delivery                       0\n",
       "troca                          0\n",
       "elegivel_revisao               0\n",
       "aceita_troca                7662\n",
       "unico_dono                 19161\n",
       "revisoes_concessionaria    20412\n",
       "ipva                        9925\n",
       "licenciado                 13678\n",
       "garantia_fabrica           25219\n",
       "revisoes_agenda            23674\n",
       "alienado                   29584\n",
       "preco                          0\n",
       "dtype: int64"
      ]
     },
     "execution_count": 10,
     "metadata": {},
     "output_type": "execute_result"
    }
   ],
   "source": [
    "df1.isna().sum()"
   ]
  },
  {
   "cell_type": "markdown",
   "id": "d2f3a627",
   "metadata": {
    "hidden": true
   },
   "source": [
    "## 1.5 Descriptive Statistical"
   ]
  },
  {
   "cell_type": "markdown",
   "id": "be920e43",
   "metadata": {
    "hidden": true
   },
   "source": [
    "Ignorada no ciclo inicial."
   ]
  },
  {
   "cell_type": "markdown",
   "id": "4ed6554f",
   "metadata": {
    "heading_collapsed": true
   },
   "source": [
    "# 2.0 FEATURE ENGINEERING"
   ]
  },
  {
   "cell_type": "markdown",
   "id": "dcff0a9a",
   "metadata": {
    "ExecuteTime": {
     "end_time": "2023-07-15T22:35:16.050165Z",
     "start_time": "2023-07-15T22:35:16.039769Z"
    },
    "hidden": true
   },
   "source": [
    "Ignorada no ciclo inicial."
   ]
  },
  {
   "cell_type": "markdown",
   "id": "1310e67d",
   "metadata": {
    "heading_collapsed": true
   },
   "source": [
    "# 3.0 FILTRAGEM DE VARIÁVEIS"
   ]
  },
  {
   "cell_type": "markdown",
   "id": "561184b3",
   "metadata": {
    "hidden": true
   },
   "source": [
    "Ignorada no ciclo inicial."
   ]
  },
  {
   "cell_type": "markdown",
   "id": "e92cb752",
   "metadata": {
    "heading_collapsed": true
   },
   "source": [
    "# 4.0 ANÁLISE EXPLORATÓRIA DOS DADOS"
   ]
  },
  {
   "cell_type": "markdown",
   "id": "8364f190",
   "metadata": {
    "hidden": true
   },
   "source": [
    "Ignorada no ciclo inicial."
   ]
  },
  {
   "cell_type": "markdown",
   "id": "0f8e3af0",
   "metadata": {
    "heading_collapsed": true
   },
   "source": [
    "# 5.0 DATA PREPARATION"
   ]
  },
  {
   "cell_type": "code",
   "execution_count": 122,
   "id": "e31a669b",
   "metadata": {
    "ExecuteTime": {
     "end_time": "2023-07-17T22:21:05.756746Z",
     "start_time": "2023-07-17T22:21:05.746011Z"
    },
    "hidden": true
   },
   "outputs": [],
   "source": [
    "df5 = df1.copy()"
   ]
  },
  {
   "cell_type": "markdown",
   "id": "c8901095",
   "metadata": {
    "hidden": true
   },
   "source": [
    "## 5.1 Separação de Treino e Teste"
   ]
  },
  {
   "cell_type": "code",
   "execution_count": 144,
   "id": "7944dd3e",
   "metadata": {
    "ExecuteTime": {
     "end_time": "2023-07-17T22:44:04.017424Z",
     "start_time": "2023-07-17T22:44:03.971246Z"
    },
    "hidden": true
   },
   "outputs": [],
   "source": [
    "X = df5[df5.columns.drop(['id', 'preco'])]\n",
    "\n",
    "# Transformacao logaritma na feature target\n",
    "y = np.log1p(df5['preco'])\n",
    "\n",
    "X_train, X_test, y_train, y_test = train_test_split(X, y, test_size=0.25, random_state=7)"
   ]
  },
  {
   "cell_type": "markdown",
   "id": "06e5e121",
   "metadata": {
    "hidden": true
   },
   "source": [
    "## 5.2 Preparação dos dados de treino"
   ]
  },
  {
   "cell_type": "code",
   "execution_count": 145,
   "id": "22fb5319",
   "metadata": {
    "ExecuteTime": {
     "end_time": "2023-07-17T22:44:05.602953Z",
     "start_time": "2023-07-17T22:44:05.042303Z"
    },
    "hidden": true
   },
   "outputs": [
    {
     "name": "stderr",
     "output_type": "stream",
     "text": [
      "/home/matheus/.pyenv/versions/3.10.7/envs/ge_ml/lib/python3.10/site-packages/sklearn/preprocessing/_label.py:115: DataConversionWarning: A column-vector y was passed when a 1d array was expected. Please change the shape of y to (n_samples, ), for example using ravel().\n",
      "  y = column_or_1d(y, warn=True)\n",
      "/home/matheus/.pyenv/versions/3.10.7/envs/ge_ml/lib/python3.10/site-packages/sklearn/preprocessing/_label.py:115: DataConversionWarning: A column-vector y was passed when a 1d array was expected. Please change the shape of y to (n_samples, ), for example using ravel().\n",
      "  y = column_or_1d(y, warn=True)\n"
     ]
    }
   ],
   "source": [
    "# numero de fotos\n",
    "X_train['num_fotos'].fillna(0, inplace=True)\n",
    "mms_fotos = MinMaxScaler()\n",
    "X_train['num_fotos'] = mms_fotos.fit_transform(X_train[['num_fotos']].values)\n",
    "\n",
    "#marca, modelo, cor, cidade_vendedor, estado_vendedor\n",
    "encoder = CountFrequencyEncoder(encoding_method='frequency',\n",
    "                                variables=['marca', 'cor', 'modelo', 'cidade_vendedor', 'estado_vendedor'],\n",
    "                                unseen='encode')\n",
    "# fit the encoder\n",
    "encoder.fit(X_train)\n",
    "\n",
    "# transform\n",
    "X_train = encoder.transform(X_train)\n",
    "\n",
    "# ano_fabricacao\n",
    "mms_fabricacao = MinMaxScaler()\n",
    "X_train['ano_fabricacao'] = mms_fabricacao.fit_transform(X_train[['ano_fabricacao']].values)\n",
    "\n",
    "# ano_modelo\n",
    "mms_modelo = MinMaxScaler()\n",
    "X_train['ano_modelo'] = mms_modelo.fit_transform(X_train[['ano_modelo']].values)\n",
    "\n",
    "# hodometro\n",
    "mms_hodometro = MinMaxScaler()\n",
    "X_train['hodometro'] = mms_hodometro.fit_transform(X_train[['hodometro']].values)\n",
    "\n",
    "# cambio\n",
    "le_cambio = LabelEncoder()\n",
    "X_train['cambio'] = le_cambio.fit_transform(X_train['cambio'])\n",
    "\n",
    "# numero de portas\n",
    "mms_portas = MinMaxScaler()\n",
    "X_train['num_portas'] = mms_portas.fit_transform(X_train[['num_portas']].values)\n",
    "\n",
    "# tipo\n",
    "le_tipo = LabelEncoder()\n",
    "X_train['tipo'] = le_tipo.fit_transform(X_train[['tipo']])\n",
    "\n",
    "# blindado\n",
    "le_blindado = LabelEncoder()\n",
    "X_train['blindado'] = le_blindado.fit_transform(X_train[['blindado']].values)\n",
    "\n",
    "# tipo_vendedor\n",
    "le_vendedor = LabelEncoder()\n",
    "X_train['tipo_vendedor'] = le_vendedor.fit_transform(X_train['tipo_vendedor'])\n",
    "\n",
    "# anunciante\n",
    "le_anunciante = LabelEncoder()\n",
    "X_train['anunciante'] = le_anunciante.fit_transform(X_train['anunciante'])\n",
    "\n",
    "# entrega_delivery\n",
    "X_train.delivery = X_train.delivery.replace({True: 1, False:0})\n",
    "\n",
    "# troca\n",
    "X_train.troca = X_train.troca.replace({True: 1, False:0})\n",
    "\n",
    "# elegivel revisao\n",
    "X_train.elegivel_revisao = X_train.elegivel_revisao.replace({True: 1, False:0})\n",
    "\n",
    "# aceita troca\n",
    "X_train['aceita_troca'] = X_train['aceita_troca'].apply(lambda x: 0 if pd.isna(x) else 1)\n",
    "\n",
    "# unico dono\n",
    "X_train['unico_dono'] = X_train['unico_dono'].apply(lambda x: 0 if pd.isna(x) else 1)\n",
    "\n",
    "# revisoes concessionaria\n",
    "X_train['revisoes_concessionaria'] = X_train['aceita_troca'].apply(lambda x: 0 if pd.isna(x) else 1)\n",
    "\n",
    "# ipva\n",
    "X_train['ipva'] = X_train['ipva'].apply(lambda x: 0 if pd.isna(x) else 1)\n",
    "\n",
    "# licenciado\n",
    "X_train['licenciado'] = X_train['licenciado'].apply(lambda x: 0 if pd.isna(x) else 1)\n",
    "\n",
    "# garantia_fabrica\n",
    "X_train['garantia_fabrica'] = X_train['garantia_fabrica'].apply(lambda x: 0 if pd.isna(x) else 1)\n",
    "\n",
    "# revisoes_agenda\n",
    "X_train['revisoes_agenda'] = X_train['revisoes_agenda'].apply(lambda x: 0 if pd.isna(x) else 1)"
   ]
  },
  {
   "cell_type": "markdown",
   "id": "197f166d",
   "metadata": {
    "ExecuteTime": {
     "end_time": "2023-07-17T19:53:53.218795Z",
     "start_time": "2023-07-17T19:53:53.175626Z"
    },
    "hidden": true
   },
   "source": [
    "## 5.4 Preparação dos dados de teste"
   ]
  },
  {
   "cell_type": "code",
   "execution_count": 146,
   "id": "08d2369f",
   "metadata": {
    "ExecuteTime": {
     "end_time": "2023-07-17T22:44:07.795203Z",
     "start_time": "2023-07-17T22:44:07.549972Z"
    },
    "hidden": true
   },
   "outputs": [
    {
     "name": "stderr",
     "output_type": "stream",
     "text": [
      "/home/matheus/.pyenv/versions/3.10.7/envs/ge_ml/lib/python3.10/site-packages/sklearn/preprocessing/_label.py:133: DataConversionWarning: A column-vector y was passed when a 1d array was expected. Please change the shape of y to (n_samples, ), for example using ravel().\n",
      "  y = column_or_1d(y, warn=True)\n",
      "/home/matheus/.pyenv/versions/3.10.7/envs/ge_ml/lib/python3.10/site-packages/sklearn/preprocessing/_label.py:133: DataConversionWarning: A column-vector y was passed when a 1d array was expected. Please change the shape of y to (n_samples, ), for example using ravel().\n",
      "  y = column_or_1d(y, warn=True)\n"
     ]
    }
   ],
   "source": [
    "# numero de fotos\n",
    "X_test['num_fotos'].fillna(0, inplace=True)\n",
    "X_test['num_fotos'] = mms_fotos.transform(X_test[['num_fotos']].values)\n",
    "\n",
    "#marca, modelo, cor, cidade_vendedor, estado_vendedor\n",
    "# transform\n",
    "X_test = encoder.transform(X_test)\n",
    "\n",
    "# ano_fabricacao\n",
    "X_test['ano_fabricacao'] = mms_fabricacao.transform(X_test[['ano_fabricacao']].values)\n",
    "\n",
    "# ano_modelo\n",
    "X_test['ano_modelo'] = mms_modelo.transform(X_test[['ano_modelo']].values)\n",
    "\n",
    "# hodometro\n",
    "X_test['hodometro'] = mms_hodometro.transform(X_test[['hodometro']].values)\n",
    "\n",
    "# cambio\n",
    "X_test['cambio'] = le_cambio.transform(X_test['cambio'])\n",
    "\n",
    "# numero de portas\n",
    "X_test['num_portas'] = mms_portas.transform(X_test[['num_portas']].values)\n",
    "\n",
    "# tipo\n",
    "X_test['tipo'] = le_tipo.transform(X_test[['tipo']])\n",
    "\n",
    "# blindado\n",
    "X_test['blindado'] = le_blindado.transform(X_test[['blindado']].values)\n",
    "\n",
    "# tipo_vendedor\n",
    "X_test['tipo_vendedor'] = le_vendedor.transform(X_test['tipo_vendedor'])\n",
    "\n",
    "# anunciante\n",
    "X_test['anunciante'] = le_anunciante.transform(X_test['anunciante'])\n",
    "\n",
    "# entrega_delivery\n",
    "X_test.delivery = X_test.delivery.replace({True: 1, False:0})\n",
    "\n",
    "# troca\n",
    "X_test.troca = X_test.troca.replace({True: 1, False:0})\n",
    "\n",
    "# elegivel revisao\n",
    "X_test.elegivel_revisao = X_test.elegivel_revisao.replace({True: 1, False:0})\n",
    "\n",
    "# aceita troca\n",
    "X_test['aceita_troca'] = X_test['aceita_troca'].apply(lambda x: 0 if pd.isna(x) else 1)\n",
    "\n",
    "# unico dono\n",
    "X_test['unico_dono'] = X_test['unico_dono'].apply(lambda x: 0 if pd.isna(x) else 1)\n",
    "\n",
    "# revisoes concessionaria\n",
    "X_test['revisoes_concessionaria'] = X_test['aceita_troca'].apply(lambda x: 0 if pd.isna(x) else 1)\n",
    "\n",
    "# ipva\n",
    "X_test['ipva'] = X_test['ipva'].apply(lambda x: 0 if pd.isna(x) else 1)\n",
    "\n",
    "# licenciado\n",
    "X_test['licenciado'] = X_test['licenciado'].apply(lambda x: 0 if pd.isna(x) else 1)\n",
    "\n",
    "# garantia_fabrica\n",
    "X_test['garantia_fabrica'] = X_test['garantia_fabrica'].apply(lambda x: 0 if pd.isna(x) else 1)\n",
    "\n",
    "# revisoes_agenda\n",
    "X_test['revisoes_agenda'] = X_test['revisoes_agenda'].apply(lambda x: 0 if pd.isna(x) else 1)"
   ]
  },
  {
   "cell_type": "markdown",
   "id": "69eae891",
   "metadata": {
    "heading_collapsed": true
   },
   "source": [
    "# 6.0 FEATURE SELECTION"
   ]
  },
  {
   "cell_type": "markdown",
   "id": "dcc063b6",
   "metadata": {
    "hidden": true
   },
   "source": [
    "Para análise inicial, as features versao e alienado foram desconsideradas."
   ]
  },
  {
   "cell_type": "code",
   "execution_count": 147,
   "id": "e18abd7d",
   "metadata": {
    "ExecuteTime": {
     "end_time": "2023-07-17T22:44:10.642031Z",
     "start_time": "2023-07-17T22:44:10.623164Z"
    },
    "hidden": true
   },
   "outputs": [],
   "source": [
    "X_train = X_train[X_train.columns.drop(['versao', 'alienado'])]\n",
    "X_test = X_test[X_test.columns.drop(['versao', 'alienado'])]"
   ]
  },
  {
   "cell_type": "markdown",
   "id": "3917da58",
   "metadata": {},
   "source": [
    "# 7.0 MACHINE LEARNING"
   ]
  },
  {
   "cell_type": "markdown",
   "id": "4cbd28e9",
   "metadata": {},
   "source": [
    "## 7.1 Average Model"
   ]
  },
  {
   "cell_type": "code",
   "execution_count": 117,
   "id": "df199f60",
   "metadata": {
    "ExecuteTime": {
     "end_time": "2023-07-17T22:05:04.069725Z",
     "start_time": "2023-07-17T22:05:03.991064Z"
    }
   },
   "outputs": [
    {
     "name": "stderr",
     "output_type": "stream",
     "text": [
      "/tmp/ipykernel_6867/2587287083.py:2: SettingWithCopyWarning: \n",
      "A value is trying to be set on a copy of a slice from a DataFrame.\n",
      "Try using .loc[row_indexer,col_indexer] = value instead\n",
      "\n",
      "See the caveats in the documentation: https://pandas.pydata.org/pandas-docs/stable/user_guide/indexing.html#returning-a-view-versus-a-copy\n",
      "  aux1['identificacao'] = aux1['marca'] + ' ' + aux1['modelo']\n",
      "/tmp/ipykernel_6867/2587287083.py:3: SettingWithCopyWarning: \n",
      "A value is trying to be set on a copy of a slice from a DataFrame.\n",
      "Try using .loc[row_indexer,col_indexer] = value instead\n",
      "\n",
      "See the caveats in the documentation: https://pandas.pydata.org/pandas-docs/stable/user_guide/indexing.html#returning-a-view-versus-a-copy\n",
      "  aux1['preco'] = y\n"
     ]
    },
    {
     "data": {
      "text/html": [
       "<div>\n",
       "<style scoped>\n",
       "    .dataframe tbody tr th:only-of-type {\n",
       "        vertical-align: middle;\n",
       "    }\n",
       "\n",
       "    .dataframe tbody tr th {\n",
       "        vertical-align: top;\n",
       "    }\n",
       "\n",
       "    .dataframe thead th {\n",
       "        text-align: right;\n",
       "    }\n",
       "</style>\n",
       "<table border=\"1\" class=\"dataframe\">\n",
       "  <thead>\n",
       "    <tr style=\"text-align: right;\">\n",
       "      <th></th>\n",
       "      <th>Model Name</th>\n",
       "      <th>MAE</th>\n",
       "      <th>MAPE</th>\n",
       "      <th>RMSE</th>\n",
       "    </tr>\n",
       "  </thead>\n",
       "  <tbody>\n",
       "    <tr>\n",
       "      <th>0</th>\n",
       "      <td>Average Model</td>\n",
       "      <td>37392.6966</td>\n",
       "      <td>0.3119</td>\n",
       "      <td>55391.4515</td>\n",
       "    </tr>\n",
       "  </tbody>\n",
       "</table>\n",
       "</div>"
      ],
      "text/plain": [
       "      Model Name        MAE   MAPE       RMSE\n",
       "0  Average Model 37392.6966 0.3119 55391.4515"
      ]
     },
     "execution_count": 117,
     "metadata": {},
     "output_type": "execute_result"
    }
   ],
   "source": [
    "aux1 = df5[['marca', 'modelo']]\n",
    "aux1['identificacao'] = aux1['marca'] + ' ' + aux1['modelo']\n",
    "aux1['preco'] = y\n",
    "\n",
    "X_mean_train, X_mean_test = train_test_split(aux1, test_size=0.25, random_state=7)\n",
    "\n",
    "aux2 = X_mean_train[['identificacao',\n",
    "             'preco']].groupby('identificacao').mean().reset_index().rename(columns={'preco': 'predictions'})\n",
    "\n",
    "# merge\n",
    "X_mean_test = pd.merge(X_mean_test, aux2, how='left', on='identificacao')\n",
    "\n",
    "# Preenchendo valores faltantes para carros nao encontrados\n",
    "X_mean_test['predictions'].fillna(aux2['predictions'].mean(), inplace=True)\n",
    "\n",
    "# performance\n",
    "baseline_result = ml_error('Average Model', np.expm1(X_mean_test['preco']), np.expm1(X_mean_test['predictions']))\n",
    "baseline_result"
   ]
  },
  {
   "cell_type": "markdown",
   "id": "090438d9",
   "metadata": {},
   "source": [
    "## 7.2 Linear Regression Model"
   ]
  },
  {
   "cell_type": "code",
   "execution_count": 148,
   "id": "d24a76ba",
   "metadata": {
    "ExecuteTime": {
     "end_time": "2023-07-17T22:44:17.240863Z",
     "start_time": "2023-07-17T22:44:17.136656Z"
    }
   },
   "outputs": [
    {
     "data": {
      "text/html": [
       "<div>\n",
       "<style scoped>\n",
       "    .dataframe tbody tr th:only-of-type {\n",
       "        vertical-align: middle;\n",
       "    }\n",
       "\n",
       "    .dataframe tbody tr th {\n",
       "        vertical-align: top;\n",
       "    }\n",
       "\n",
       "    .dataframe thead th {\n",
       "        text-align: right;\n",
       "    }\n",
       "</style>\n",
       "<table border=\"1\" class=\"dataframe\">\n",
       "  <thead>\n",
       "    <tr style=\"text-align: right;\">\n",
       "      <th></th>\n",
       "      <th>Model Name</th>\n",
       "      <th>MAE</th>\n",
       "      <th>MAPE</th>\n",
       "      <th>RMSE</th>\n",
       "    </tr>\n",
       "  </thead>\n",
       "  <tbody>\n",
       "    <tr>\n",
       "      <th>0</th>\n",
       "      <td>Linear Regression</td>\n",
       "      <td>44563.8407</td>\n",
       "      <td>0.3698</td>\n",
       "      <td>65561.9199</td>\n",
       "    </tr>\n",
       "  </tbody>\n",
       "</table>\n",
       "</div>"
      ],
      "text/plain": [
       "          Model Name        MAE   MAPE       RMSE\n",
       "0  Linear Regression 44563.8407 0.3698 65561.9199"
      ]
     },
     "execution_count": 148,
     "metadata": {},
     "output_type": "execute_result"
    }
   ],
   "source": [
    "# model\n",
    "lr = LinearRegression().fit(X_train, y_train)\n",
    "\n",
    "# prediction\n",
    "yhat_lr = lr.predict(X_test)\n",
    "\n",
    "# performace\n",
    "lr_result = ml_error('Linear Regression', np.expm1(y_test), np.expm1(yhat_lr))\n",
    "lr_result"
   ]
  },
  {
   "cell_type": "markdown",
   "id": "5b8e4c87",
   "metadata": {
    "ExecuteTime": {
     "end_time": "2023-07-17T22:35:31.243038Z",
     "start_time": "2023-07-17T22:35:31.221033Z"
    }
   },
   "source": [
    "## 7.3 Linear Regression Regularized Model - Lasso"
   ]
  },
  {
   "cell_type": "code",
   "execution_count": 154,
   "id": "0bf1f23c",
   "metadata": {
    "ExecuteTime": {
     "end_time": "2023-07-17T22:50:05.619590Z",
     "start_time": "2023-07-17T22:50:05.551760Z"
    }
   },
   "outputs": [
    {
     "data": {
      "text/html": [
       "<div>\n",
       "<style scoped>\n",
       "    .dataframe tbody tr th:only-of-type {\n",
       "        vertical-align: middle;\n",
       "    }\n",
       "\n",
       "    .dataframe tbody tr th {\n",
       "        vertical-align: top;\n",
       "    }\n",
       "\n",
       "    .dataframe thead th {\n",
       "        text-align: right;\n",
       "    }\n",
       "</style>\n",
       "<table border=\"1\" class=\"dataframe\">\n",
       "  <thead>\n",
       "    <tr style=\"text-align: right;\">\n",
       "      <th></th>\n",
       "      <th>Model Name</th>\n",
       "      <th>MAE</th>\n",
       "      <th>MAPE</th>\n",
       "      <th>RMSE</th>\n",
       "    </tr>\n",
       "  </thead>\n",
       "  <tbody>\n",
       "    <tr>\n",
       "      <th>0</th>\n",
       "      <td>Linear Regression - Lasso</td>\n",
       "      <td>46984.5877</td>\n",
       "      <td>0.3833</td>\n",
       "      <td>70314.2234</td>\n",
       "    </tr>\n",
       "  </tbody>\n",
       "</table>\n",
       "</div>"
      ],
      "text/plain": [
       "                  Model Name        MAE   MAPE       RMSE\n",
       "0  Linear Regression - Lasso 46984.5877 0.3833 70314.2234"
      ]
     },
     "execution_count": 154,
     "metadata": {},
     "output_type": "execute_result"
    }
   ],
   "source": [
    "# model\n",
    "lrr = Lasso(alpha=0.005).fit(X_train, y_train)\n",
    "\n",
    "# prediction\n",
    "yhat_lrr = lrr.predict(X_test)\n",
    "\n",
    "# performace\n",
    "lrr_result = ml_error('Linear Regression - Lasso', np.expm1(y_test), np.expm1(yhat_lrr))\n",
    "lrr_result"
   ]
  },
  {
   "cell_type": "markdown",
   "id": "13ac39ab",
   "metadata": {},
   "source": [
    "## 7.4 Random Forest Regressor"
   ]
  },
  {
   "cell_type": "code",
   "execution_count": 174,
   "id": "0ccff004",
   "metadata": {
    "ExecuteTime": {
     "end_time": "2023-07-18T00:03:00.008744Z",
     "start_time": "2023-07-18T00:02:53.964192Z"
    }
   },
   "outputs": [
    {
     "data": {
      "text/html": [
       "<div>\n",
       "<style scoped>\n",
       "    .dataframe tbody tr th:only-of-type {\n",
       "        vertical-align: middle;\n",
       "    }\n",
       "\n",
       "    .dataframe tbody tr th {\n",
       "        vertical-align: top;\n",
       "    }\n",
       "\n",
       "    .dataframe thead th {\n",
       "        text-align: right;\n",
       "    }\n",
       "</style>\n",
       "<table border=\"1\" class=\"dataframe\">\n",
       "  <thead>\n",
       "    <tr style=\"text-align: right;\">\n",
       "      <th></th>\n",
       "      <th>Model Name</th>\n",
       "      <th>MAE</th>\n",
       "      <th>MAPE</th>\n",
       "      <th>RMSE</th>\n",
       "    </tr>\n",
       "  </thead>\n",
       "  <tbody>\n",
       "    <tr>\n",
       "      <th>0</th>\n",
       "      <td>Random Forest Regression - Lasso</td>\n",
       "      <td>28013.2247</td>\n",
       "      <td>0.2300</td>\n",
       "      <td>43431.5836</td>\n",
       "    </tr>\n",
       "  </tbody>\n",
       "</table>\n",
       "</div>"
      ],
      "text/plain": [
       "                         Model Name        MAE   MAPE       RMSE\n",
       "0  Random Forest Regression - Lasso 28013.2247 0.2300 43431.5836"
      ]
     },
     "execution_count": 174,
     "metadata": {},
     "output_type": "execute_result"
    }
   ],
   "source": [
    "# model\n",
    "rf = RandomForestRegressor(n_estimators=100, n_jobs=-1, random_state=7).fit(X_train, y_train)\n",
    "\n",
    "# prediction\n",
    "yhat_rf = rf.predict(X_test)\n",
    "\n",
    "# performace\n",
    "rf_result = ml_error('Random Forest Regression - Lasso', np.expm1(y_test), np.expm1(yhat_rf))\n",
    "rf_result"
   ]
  },
  {
   "cell_type": "markdown",
   "id": "89225f7b",
   "metadata": {},
   "source": [
    "## 7.5 XGBoost Regressor"
   ]
  },
  {
   "cell_type": "code",
   "execution_count": 163,
   "id": "9ce5abc1",
   "metadata": {
    "ExecuteTime": {
     "end_time": "2023-07-17T23:24:37.261866Z",
     "start_time": "2023-07-17T23:24:32.532622Z"
    }
   },
   "outputs": [
    {
     "data": {
      "text/html": [
       "<div>\n",
       "<style scoped>\n",
       "    .dataframe tbody tr th:only-of-type {\n",
       "        vertical-align: middle;\n",
       "    }\n",
       "\n",
       "    .dataframe tbody tr th {\n",
       "        vertical-align: top;\n",
       "    }\n",
       "\n",
       "    .dataframe thead th {\n",
       "        text-align: right;\n",
       "    }\n",
       "</style>\n",
       "<table border=\"1\" class=\"dataframe\">\n",
       "  <thead>\n",
       "    <tr style=\"text-align: right;\">\n",
       "      <th></th>\n",
       "      <th>Model Name</th>\n",
       "      <th>MAE</th>\n",
       "      <th>MAPE</th>\n",
       "      <th>RMSE</th>\n",
       "    </tr>\n",
       "  </thead>\n",
       "  <tbody>\n",
       "    <tr>\n",
       "      <th>0</th>\n",
       "      <td>XGBoost Regressor</td>\n",
       "      <td>27551.6606</td>\n",
       "      <td>0.2237</td>\n",
       "      <td>41999.3463</td>\n",
       "    </tr>\n",
       "  </tbody>\n",
       "</table>\n",
       "</div>"
      ],
      "text/plain": [
       "          Model Name        MAE   MAPE       RMSE\n",
       "0  XGBoost Regressor 27551.6606 0.2237 41999.3463"
      ]
     },
     "execution_count": 163,
     "metadata": {},
     "output_type": "execute_result"
    }
   ],
   "source": [
    "# model\n",
    "model_xgb = xgb.XGBRegressor(n_estimators=100,\n",
    "                             random_state=7).fit(X_train, y_train)\n",
    "\n",
    "# prediction\n",
    "yhat_xgb = model_xgb.predict(X_test)\n",
    "\n",
    "# performance\n",
    "xgb_result = ml_error('XGBoost Regressor', np.expm1(y_test), np.expm1(yhat_xgb))\n",
    "xgb_result"
   ]
  },
  {
   "cell_type": "markdown",
   "id": "f9559d80",
   "metadata": {},
   "source": [
    "## 7.6 LightGBM Regressor"
   ]
  },
  {
   "cell_type": "code",
   "execution_count": 172,
   "id": "273e040c",
   "metadata": {
    "ExecuteTime": {
     "end_time": "2023-07-18T00:02:05.697018Z",
     "start_time": "2023-07-18T00:02:04.823730Z"
    }
   },
   "outputs": [
    {
     "name": "stdout",
     "output_type": "stream",
     "text": [
      "[LightGBM] [Warning] Auto-choosing row-wise multi-threading, the overhead of testing was 0.003633 seconds.\n",
      "You can set `force_row_wise=true` to remove the overhead.\n",
      "And if memory is not enough, you can set `force_col_wise=true`.\n",
      "[LightGBM] [Info] Total Bins 616\n",
      "[LightGBM] [Info] Number of data points in the train set: 22188, number of used features: 23\n",
      "[LightGBM] [Info] Start training from score 11.637541\n"
     ]
    },
    {
     "data": {
      "text/html": [
       "<div>\n",
       "<style scoped>\n",
       "    .dataframe tbody tr th:only-of-type {\n",
       "        vertical-align: middle;\n",
       "    }\n",
       "\n",
       "    .dataframe tbody tr th {\n",
       "        vertical-align: top;\n",
       "    }\n",
       "\n",
       "    .dataframe thead th {\n",
       "        text-align: right;\n",
       "    }\n",
       "</style>\n",
       "<table border=\"1\" class=\"dataframe\">\n",
       "  <thead>\n",
       "    <tr style=\"text-align: right;\">\n",
       "      <th></th>\n",
       "      <th>Model Name</th>\n",
       "      <th>MAE</th>\n",
       "      <th>MAPE</th>\n",
       "      <th>RMSE</th>\n",
       "    </tr>\n",
       "  </thead>\n",
       "  <tbody>\n",
       "    <tr>\n",
       "      <th>0</th>\n",
       "      <td>LightGBM Regressor</td>\n",
       "      <td>27053.6408</td>\n",
       "      <td>0.2190</td>\n",
       "      <td>41845.9696</td>\n",
       "    </tr>\n",
       "  </tbody>\n",
       "</table>\n",
       "</div>"
      ],
      "text/plain": [
       "           Model Name        MAE   MAPE       RMSE\n",
       "0  LightGBM Regressor 27053.6408 0.2190 41845.9696"
      ]
     },
     "execution_count": 172,
     "metadata": {},
     "output_type": "execute_result"
    }
   ],
   "source": [
    "# model\n",
    "model_lgbm = lgbm.LGBMRegressor(n_estimators=300).fit(X_train, y_train)\n",
    "\n",
    "# prediction\n",
    "yhat_lgbm = model_lgbm.predict(X_test)\n",
    "\n",
    "# performance\n",
    "lgbm_result = ml_error('LightGBM Regressor', np.expm1(y_test), np.expm1(yhat_lgbm))\n",
    "lgbm_result"
   ]
  },
  {
   "cell_type": "markdown",
   "id": "a23bb547",
   "metadata": {},
   "source": [
    "## 7.7 Compare Model's Performace"
   ]
  },
  {
   "cell_type": "code",
   "execution_count": 175,
   "id": "024f07dd",
   "metadata": {
    "ExecuteTime": {
     "end_time": "2023-07-18T00:03:03.779827Z",
     "start_time": "2023-07-18T00:03:03.744731Z"
    }
   },
   "outputs": [
    {
     "data": {
      "text/html": [
       "<div>\n",
       "<style scoped>\n",
       "    .dataframe tbody tr th:only-of-type {\n",
       "        vertical-align: middle;\n",
       "    }\n",
       "\n",
       "    .dataframe tbody tr th {\n",
       "        vertical-align: top;\n",
       "    }\n",
       "\n",
       "    .dataframe thead th {\n",
       "        text-align: right;\n",
       "    }\n",
       "</style>\n",
       "<table border=\"1\" class=\"dataframe\">\n",
       "  <thead>\n",
       "    <tr style=\"text-align: right;\">\n",
       "      <th></th>\n",
       "      <th>Model Name</th>\n",
       "      <th>MAE</th>\n",
       "      <th>MAPE</th>\n",
       "      <th>RMSE</th>\n",
       "    </tr>\n",
       "  </thead>\n",
       "  <tbody>\n",
       "    <tr>\n",
       "      <th>0</th>\n",
       "      <td>LightGBM Regressor</td>\n",
       "      <td>27053.6408</td>\n",
       "      <td>0.2190</td>\n",
       "      <td>41845.9696</td>\n",
       "    </tr>\n",
       "    <tr>\n",
       "      <th>0</th>\n",
       "      <td>XGBoost Regressor</td>\n",
       "      <td>27551.6606</td>\n",
       "      <td>0.2237</td>\n",
       "      <td>41999.3463</td>\n",
       "    </tr>\n",
       "    <tr>\n",
       "      <th>0</th>\n",
       "      <td>Random Forest Regression - Lasso</td>\n",
       "      <td>28013.2247</td>\n",
       "      <td>0.2300</td>\n",
       "      <td>43431.5836</td>\n",
       "    </tr>\n",
       "    <tr>\n",
       "      <th>0</th>\n",
       "      <td>Average Model</td>\n",
       "      <td>37392.6966</td>\n",
       "      <td>0.3119</td>\n",
       "      <td>55391.4515</td>\n",
       "    </tr>\n",
       "    <tr>\n",
       "      <th>0</th>\n",
       "      <td>Linear Regression</td>\n",
       "      <td>44563.8407</td>\n",
       "      <td>0.3698</td>\n",
       "      <td>65561.9199</td>\n",
       "    </tr>\n",
       "    <tr>\n",
       "      <th>0</th>\n",
       "      <td>Linear Regression - Lasso</td>\n",
       "      <td>46984.5877</td>\n",
       "      <td>0.3833</td>\n",
       "      <td>70314.2234</td>\n",
       "    </tr>\n",
       "  </tbody>\n",
       "</table>\n",
       "</div>"
      ],
      "text/plain": [
       "                         Model Name        MAE   MAPE       RMSE\n",
       "0                LightGBM Regressor 27053.6408 0.2190 41845.9696\n",
       "0                 XGBoost Regressor 27551.6606 0.2237 41999.3463\n",
       "0  Random Forest Regression - Lasso 28013.2247 0.2300 43431.5836\n",
       "0                     Average Model 37392.6966 0.3119 55391.4515\n",
       "0                 Linear Regression 44563.8407 0.3698 65561.9199\n",
       "0         Linear Regression - Lasso 46984.5877 0.3833 70314.2234"
      ]
     },
     "execution_count": 175,
     "metadata": {},
     "output_type": "execute_result"
    }
   ],
   "source": [
    "modelling_result_cv = pd.concat([baseline_result, lr_result, lrr_result, rf_result, xgb_result, lgbm_result])\n",
    "modelling_result_cv.sort_values('RMSE')"
   ]
  },
  {
   "cell_type": "markdown",
   "id": "dddf2f72",
   "metadata": {},
   "source": [
    "# 8.0 HYPERPARAMETER FINE TUNING"
   ]
  },
  {
   "cell_type": "markdown",
   "id": "ec42e3ad",
   "metadata": {},
   "source": [
    "# 9.0 TRADUÇÃO E INTERPRETAÇÃO DO ERRO"
   ]
  },
  {
   "cell_type": "markdown",
   "id": "c8f61288",
   "metadata": {},
   "source": [
    "# 10.0 DEPLOY MODEL"
   ]
  },
  {
   "cell_type": "code",
   "execution_count": null,
   "id": "092c3d77",
   "metadata": {},
   "outputs": [],
   "source": []
  }
 ],
 "metadata": {
  "kernelspec": {
   "display_name": "Python 3 (ipykernel)",
   "language": "python",
   "name": "python3"
  },
  "language_info": {
   "codemirror_mode": {
    "name": "ipython",
    "version": 3
   },
   "file_extension": ".py",
   "mimetype": "text/x-python",
   "name": "python",
   "nbconvert_exporter": "python",
   "pygments_lexer": "ipython3",
   "version": "3.10.7"
  }
 },
 "nbformat": 4,
 "nbformat_minor": 5
}
